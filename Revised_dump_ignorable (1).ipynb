{
 "cells": [
  {
   "cell_type": "code",
   "execution_count": 1,
   "metadata": {
    "colab": {
     "base_uri": "https://localhost:8080/",
     "height": 134
    },
    "colab_type": "code",
    "id": "dFyAewGqG-Ke",
    "outputId": "1c370d90-2e49-4968-be64-56af51f5730e"
   },
   "outputs": [
    {
     "name": "stderr",
     "output_type": "stream",
     "text": [
      "Using TensorFlow backend.\n"
     ]
    },
    {
     "name": "stdout",
     "output_type": "stream",
     "text": [
      "[nltk_data] Downloading package punkt to /root/nltk_data...\n",
      "[nltk_data]   Unzipping tokenizers/punkt.zip.\n",
      "[nltk_data] Downloading package wordnet to /root/nltk_data...\n",
      "[nltk_data]   Unzipping corpora/wordnet.zip.\n",
      "[nltk_data] Downloading package stopwords to /root/nltk_data...\n",
      "[nltk_data]   Unzipping corpora/stopwords.zip.\n"
     ]
    }
   ],
   "source": [
    "import tensorflow_hub as hub\n",
    "\n",
    "import pandas as pd\n",
    "import numpy as np\n",
    "import tensorflow as tf\n",
    "\n",
    "from keras import utils\n",
    "import nltk \n",
    "nltk.download('punkt')\n",
    "nltk.download('wordnet')\n",
    "nltk.download('stopwords')\n",
    "\n",
    "from string import punctuation\n",
    "from keras.preprocessing.text import Tokenizer\n",
    "from nltk.corpus import stopwords\n",
    "stop_words = set(stopwords.words('english'))\n",
    "\n",
    "from sklearn import preprocessing\n",
    "le = preprocessing.LabelEncoder()\n",
    "\n",
    "from sklearn.preprocessing import StandardScaler\n",
    "\n",
    "from sklearn.model_selection import train_test_split\n",
    "\n",
    "import re\n",
    "\n",
    "from sklearn import preprocessing\n",
    "\n",
    "from nltk.stem import WordNetLemmatizer\n",
    "\n",
    "from sklearn.metrics import classification_report"
   ]
  },
  {
   "cell_type": "code",
   "execution_count": 3,
   "metadata": {
    "colab": {
     "base_uri": "https://localhost:8080/",
     "height": 195
    },
    "colab_type": "code",
    "id": "_eAr8GZ9HQGo",
    "outputId": "1392386c-1f2e-48a1-e54c-564fb440b2a5"
   },
   "outputs": [
    {
     "data": {
      "text/html": [
       "<div>\n",
       "<style scoped>\n",
       "    .dataframe tbody tr th:only-of-type {\n",
       "        vertical-align: middle;\n",
       "    }\n",
       "\n",
       "    .dataframe tbody tr th {\n",
       "        vertical-align: top;\n",
       "    }\n",
       "\n",
       "    .dataframe thead th {\n",
       "        text-align: right;\n",
       "    }\n",
       "</style>\n",
       "<table border=\"1\" class=\"dataframe\">\n",
       "  <thead>\n",
       "    <tr style=\"text-align: right;\">\n",
       "      <th></th>\n",
       "      <th>Alerts</th>\n",
       "      <th>Support Queue</th>\n",
       "      <th>Ignorable (Y/N)</th>\n",
       "    </tr>\n",
       "  </thead>\n",
       "  <tbody>\n",
       "    <tr>\n",
       "      <th>0</th>\n",
       "      <td>A disk cache failed to initialize</td>\n",
       "      <td>Wintel Server Support</td>\n",
       "      <td>N</td>\n",
       "    </tr>\n",
       "    <tr>\n",
       "      <th>1</th>\n",
       "      <td>An Array Component is in a critical Performanc...</td>\n",
       "      <td>Wintel Server Support</td>\n",
       "      <td>N</td>\n",
       "    </tr>\n",
       "    <tr>\n",
       "      <th>2</th>\n",
       "      <td>An error occurred in the Service Broker manager</td>\n",
       "      <td>Wintel Server Support</td>\n",
       "      <td>N</td>\n",
       "    </tr>\n",
       "    <tr>\n",
       "      <th>3</th>\n",
       "      <td>Application of Group Policy Alert</td>\n",
       "      <td>Wintel Server Support</td>\n",
       "      <td>Y</td>\n",
       "    </tr>\n",
       "    <tr>\n",
       "      <th>4</th>\n",
       "      <td>Array Performance is in a critical health state</td>\n",
       "      <td>Wintel Server Support</td>\n",
       "      <td>N</td>\n",
       "    </tr>\n",
       "  </tbody>\n",
       "</table>\n",
       "</div>"
      ],
      "text/plain": [
       "                                              Alerts  ... Ignorable (Y/N)\n",
       "0                  A disk cache failed to initialize  ...               N\n",
       "1  An Array Component is in a critical Performanc...  ...               N\n",
       "2    An error occurred in the Service Broker manager  ...               N\n",
       "3                  Application of Group Policy Alert  ...               Y\n",
       "4    Array Performance is in a critical health state  ...               N\n",
       "\n",
       "[5 rows x 3 columns]"
      ]
     },
     "execution_count": 3,
     "metadata": {
      "tags": []
     },
     "output_type": "execute_result"
    }
   ],
   "source": [
    "df=pd.read_excel(r\"/Revised SCOM Dump_false alert (1).xlsx\")\n",
    "df.head()"
   ]
  },
  {
   "cell_type": "code",
   "execution_count": 4,
   "metadata": {
    "colab": {
     "base_uri": "https://localhost:8080/",
     "height": 67
    },
    "colab_type": "code",
    "id": "E5rgPDyHHaif",
    "outputId": "2f7c9728-0df4-4566-f89d-86bceb661965"
   },
   "outputs": [
    {
     "data": {
      "text/plain": [
       "N    136\n",
       "Y     65\n",
       "Name: Ignorable (Y/N), dtype: int64"
      ]
     },
     "execution_count": 4,
     "metadata": {
      "tags": []
     },
     "output_type": "execute_result"
    }
   ],
   "source": [
    "# counting the y/n values \n",
    "df['Ignorable (Y/N)'].value_counts()"
   ]
  },
  {
   "cell_type": "code",
   "execution_count": 5,
   "metadata": {
    "colab": {
     "base_uri": "https://localhost:8080/",
     "height": 218
    },
    "colab_type": "code",
    "id": "bU7xSUk3HfMP",
    "outputId": "4733c0a4-9c34-4130-83a0-72885a472eb8"
   },
   "outputs": [
    {
     "data": {
      "text/plain": [
       "0      N\n",
       "1      N\n",
       "2      N\n",
       "3      Y\n",
       "4      N\n",
       "      ..\n",
       "196    N\n",
       "197    N\n",
       "198    N\n",
       "199    N\n",
       "200    N\n",
       "Name: Ignorable (Y/N), Length: 201, dtype: object"
      ]
     },
     "execution_count": 5,
     "metadata": {
      "tags": []
     },
     "output_type": "execute_result"
    }
   ],
   "source": [
    "# dropping NA in Ignorable column\n",
    "df['Ignorable (Y/N)'].dropna(how='all')"
   ]
  },
  {
   "cell_type": "code",
   "execution_count": 6,
   "metadata": {
    "colab": {
     "base_uri": "https://localhost:8080/",
     "height": 218
    },
    "colab_type": "code",
    "id": "YY68e-X7jK2F",
    "outputId": "4291eb62-de6a-4ada-d0cb-f6914578bc71"
   },
   "outputs": [
    {
     "data": {
      "text/plain": [
       "0      0\n",
       "1      0\n",
       "2      0\n",
       "3      1\n",
       "4      0\n",
       "      ..\n",
       "196    0\n",
       "197    0\n",
       "198    0\n",
       "199    0\n",
       "200    0\n",
       "Name: Ignorable (Y/N), Length: 201, dtype: int64"
      ]
     },
     "execution_count": 6,
     "metadata": {
      "tags": []
     },
     "output_type": "execute_result"
    }
   ],
   "source": [
    "# converting Y/N to 1 and 0 \n",
    "df['Ignorable (Y/N)']=df['Ignorable (Y/N)'].apply(lambda x: 1 if (x)==\"Y\" else 0)\n",
    "df['Ignorable (Y/N)']"
   ]
  },
  {
   "cell_type": "code",
   "execution_count": 7,
   "metadata": {
    "colab": {
     "base_uri": "https://localhost:8080/",
     "height": 218
    },
    "colab_type": "code",
    "id": "fsyy95ARHrEK",
    "outputId": "a712b6f1-c196-406d-a416-2494c880f5a4"
   },
   "outputs": [
    {
     "data": {
      "text/plain": [
       "0                      A disk cache failed to initialize\n",
       "1      An Array Component is in a critical Performanc...\n",
       "2        An error occurred in the Service Broker manager\n",
       "3                      Application of Group Policy Alert\n",
       "4        Array Performance is in a critical health state\n",
       "                             ...                        \n",
       "196      Application pool worker process is unresponsive\n",
       "197    \"Master Repository Update or repository replic...\n",
       "198                Free Space (%) For Cluster Disk Alert\n",
       "199    Cluster resource group offline or partially on...\n",
       "200                    HP Hardware Component: NIC Status\n",
       "Name: Alerts, Length: 201, dtype: object"
      ]
     },
     "execution_count": 7,
     "metadata": {
      "tags": []
     },
     "output_type": "execute_result"
    }
   ],
   "source": [
    "# Dropping NA values in Alerts column\n",
    "df['Alerts'].dropna(how='all')"
   ]
  },
  {
   "cell_type": "code",
   "execution_count": 8,
   "metadata": {
    "colab": {
     "base_uri": "https://localhost:8080/",
     "height": 218
    },
    "colab_type": "code",
    "id": "chWdxPFbHwLu",
    "outputId": "8c4e1c65-5e0b-4145-8379-2812b05afd69"
   },
   "outputs": [
    {
     "data": {
      "text/plain": [
       "0                      a disk cache failed to initialize\n",
       "1      an array component is in a critical performanc...\n",
       "2        an error occurred in the service broker manager\n",
       "3                      application of group policy alert\n",
       "4        array performance is in a critical health state\n",
       "                             ...                        \n",
       "196      application pool worker process is unresponsive\n",
       "197    \"master repository update or repository replic...\n",
       "198                free space (%) for cluster disk alert\n",
       "199    cluster resource group offline or partially on...\n",
       "200                    hp hardware component: nic status\n",
       "Name: Alerts, Length: 201, dtype: object"
      ]
     },
     "execution_count": 8,
     "metadata": {
      "tags": []
     },
     "output_type": "execute_result"
    }
   ],
   "source": [
    "# applying lower function to Alerts coulmn\n",
    "df['Alerts'] = df['Alerts'].apply(lambda x: x.lower())\n",
    "df['Alerts']"
   ]
  },
  {
   "cell_type": "code",
   "execution_count": 0,
   "metadata": {
    "colab": {},
    "colab_type": "code",
    "id": "G_cw99sdIzys"
   },
   "outputs": [],
   "source": [
    "df['Alerts'] = df['Alerts'].apply(lambda s: re.sub(r\"[^a-zA-Z0-9]\",\" \",s))"
   ]
  },
  {
   "cell_type": "code",
   "execution_count": 0,
   "metadata": {
    "colab": {},
    "colab_type": "code",
    "id": "OXjaAkPsI_Ee"
   },
   "outputs": [],
   "source": [
    "lemmatizer=WordNetLemmatizer()\n",
    "\n",
    "def tokenize(text):\n",
    "    tokens = nltk.word_tokenize(text)\n",
    "    tokens =[w for w in tokens if not w in stop_words] # [w for w in\n",
    "    lemmatized_output = ' '.join([lemmatizer.lemmatize(w) for w in tokens])\n",
    "    return lemmatized_output"
   ]
  },
  {
   "cell_type": "code",
   "execution_count": 11,
   "metadata": {
    "colab": {
     "base_uri": "https://localhost:8080/",
     "height": 218
    },
    "colab_type": "code",
    "id": "feIvrTxGJDzl",
    "outputId": "add5f110-415e-4760-ed39-7a6abbea0a2e"
   },
   "outputs": [
    {
     "data": {
      "text/plain": [
       "0                           disk cache failed initialize\n",
       "1             array component critical performance state\n",
       "2                  error occurred service broker manager\n",
       "3                         application group policy alert\n",
       "4                array performance critical health state\n",
       "                             ...                        \n",
       "196         application pool worker process unresponsive\n",
       "197    master repository update repository replicatio...\n",
       "198                        free space cluster disk alert\n",
       "199      cluster resource group offline partially online\n",
       "200                     hp hardware component nic status\n",
       "Name: Alerts, Length: 201, dtype: object"
      ]
     },
     "execution_count": 11,
     "metadata": {
      "tags": []
     },
     "output_type": "execute_result"
    }
   ],
   "source": [
    "# applying tokenize function to Alerts column\n",
    "df['Alerts'].apply(tokenize)"
   ]
  },
  {
   "cell_type": "code",
   "execution_count": 0,
   "metadata": {
    "colab": {},
    "colab_type": "code",
    "id": "GG-fyQeGtpWj"
   },
   "outputs": [],
   "source": [
    "le = preprocessing.LabelEncoder()\n",
    "df['Alerts'] = le.fit_transform(df['Alerts'])"
   ]
  },
  {
   "cell_type": "code",
   "execution_count": 0,
   "metadata": {
    "colab": {},
    "colab_type": "code",
    "id": "nD-NkATJKczg"
   },
   "outputs": [],
   "source": [
    "#taking X and y\n",
    "X = df['Alerts']\n",
    "y = df['Ignorable (Y/N)']"
   ]
  },
  {
   "cell_type": "code",
   "execution_count": 0,
   "metadata": {
    "colab": {},
    "colab_type": "code",
    "id": "V4AGjynosrZS"
   },
   "outputs": [],
   "source": [
    "#Scaling\n",
    "scaler = StandardScaler()"
   ]
  },
  {
   "cell_type": "code",
   "execution_count": 0,
   "metadata": {
    "colab": {},
    "colab_type": "code",
    "id": "WfMpEzH5tfJd"
   },
   "outputs": [],
   "source": [
    "#meta train test split\n",
    "X_train_meta, X_test_meta, y_train, y_test = train_test_split((X), (y) ,stratify=y, test_size=0.20,random_state=10)"
   ]
  },
  {
   "cell_type": "code",
   "execution_count": 0,
   "metadata": {
    "colab": {},
    "colab_type": "code",
    "id": "J2Z87g4jsrls"
   },
   "outputs": [],
   "source": [
    "#scale X\n",
    "standardized = scaler.fit(X_train_meta.values.reshape(-1,1))\n",
    "X_train_std = standardized.transform(X_train_meta.values.reshape(-1,1))\n",
    "X_test_std = standardized.transform(X_test_meta.values.reshape(-1,1))"
   ]
  },
  {
   "cell_type": "code",
   "execution_count": 0,
   "metadata": {
    "colab": {},
    "colab_type": "code",
    "id": "L-TD2RcWKpuB"
   },
   "outputs": [],
   "source": [
    "embedding_128 = \"https://tfhub.dev/google/tf2-preview/nnlm-en-dim128/1\""
   ]
  },
  {
   "cell_type": "code",
   "execution_count": 0,
   "metadata": {
    "colab": {},
    "colab_type": "code",
    "id": "GDQBE2VZKsqO"
   },
   "outputs": [],
   "source": [
    "#creating the embedding confuguration \n",
    "\n",
    "hub_layer = hub.KerasLayer(embedding_128, input_shape=[], \n",
    "                           dtype=tf.string, trainable=True)"
   ]
  },
  {
   "cell_type": "code",
   "execution_count": 0,
   "metadata": {
    "colab": {},
    "colab_type": "code",
    "id": "2fmvJv8hVqaa"
   },
   "outputs": [],
   "source": [
    "df['Support Queue'] =  df['Support Queue'].replace(to_replace='Wintel server support',value='Wintel Server Support')\n",
    "# df['Support Queue'].value_counts()"
   ]
  },
  {
   "cell_type": "code",
   "execution_count": 0,
   "metadata": {
    "colab": {},
    "colab_type": "code",
    "id": "W3v3678VVqi3"
   },
   "outputs": [],
   "source": [
    "df['Support Queue'] =  df['Support Queue'].replace(to_replace='wintel server Application',value='Wintel Server Applications')\n",
    "# df['Support Queue'].value_counts()\n",
    "# "
   ]
  },
  {
   "cell_type": "code",
   "execution_count": 0,
   "metadata": {
    "colab": {},
    "colab_type": "code",
    "id": "rH51RZe_VqrA"
   },
   "outputs": [],
   "source": [
    "df['Support Queue'] = df['Support Queue'].replace(to_replace = 'citrix',value='Citrix')\n",
    "# df['Support Queue'].value_counts()"
   ]
  },
  {
   "cell_type": "code",
   "execution_count": 0,
   "metadata": {
    "colab": {},
    "colab_type": "code",
    "id": "85OqZX9XVqzi"
   },
   "outputs": [],
   "source": [
    "df['Support Queue'] = df['Support Queue'].replace(to_replace = ['database , backup','Backup , Wintel server support','Wintel server support , citrix','Citrix Server Support','depends on the server name','Wintel Server Support , database','CL - Service Account Lockout','Database , Backup','backup'],value='Others')\n",
    "# df['Support Queue'].value_counts()"
   ]
  },
  {
   "cell_type": "code",
   "execution_count": 0,
   "metadata": {
    "colab": {},
    "colab_type": "code",
    "id": "QUNwpMQdWru9"
   },
   "outputs": [],
   "source": [
    "df['Support Queue'] = df['Support Queue'].replace(to_replace = 'Backup ',value='Backup Support')"
   ]
  },
  {
   "cell_type": "code",
   "execution_count": 31,
   "metadata": {
    "colab": {
     "base_uri": "https://localhost:8080/",
     "height": 185
    },
    "colab_type": "code",
    "id": "C9TE8NqtWrz-",
    "outputId": "8015032f-eefe-4ae4-8103-10abea2ee7ba"
   },
   "outputs": [
    {
     "data": {
      "text/plain": [
       "Wintel Server Support         132\n",
       "Wintel Server Applications     23\n",
       "Database                       11\n",
       "Database Support               10\n",
       "Others                          9\n",
       "Backup Support                  7\n",
       "Storage                         4\n",
       "backup                          3\n",
       "Citrix                          2\n",
       "Name: Support Queue, dtype: int64"
      ]
     },
     "execution_count": 31,
     "metadata": {
      "tags": []
     },
     "output_type": "execute_result"
    }
   ],
   "source": [
    "df['Support Queue'].value_counts()"
   ]
  },
  {
   "cell_type": "code",
   "execution_count": 0,
   "metadata": {
    "colab": {},
    "colab_type": "code",
    "id": "NVNbUYJvlEnS"
   },
   "outputs": [],
   "source": [
    "X_supportQueue = df[['Support Queue']]"
   ]
  },
  {
   "cell_type": "code",
   "execution_count": 0,
   "metadata": {
    "colab": {},
    "colab_type": "code",
    "id": "6GK5-iOQlEwp"
   },
   "outputs": [],
   "source": [
    "X_train_nlp, X_test_nlp, y_train, y_test = train_test_split(X_supportQueue, (y) ,stratify=y, test_size=0.20,random_state=10)\n"
   ]
  },
  {
   "cell_type": "code",
   "execution_count": 0,
   "metadata": {
    "colab": {},
    "colab_type": "code",
    "id": "_GkKsETElE5Z"
   },
   "outputs": [],
   "source": [
    "###Train Data\n",
    "embed = (hub_layer(X_train_nlp.values.reshape(-1,)))\n",
    "embed_df = pd.DataFrame((embed.numpy()[:].reshape(-1,128)))\n",
    "train_std_df = pd.DataFrame(X_train_std)\n",
    "concat_df = pd.concat([train_std_df,embed_df] ,axis=1)"
   ]
  },
  {
   "cell_type": "code",
   "execution_count": 0,
   "metadata": {
    "colab": {},
    "colab_type": "code",
    "id": "idrPQOaVLYj0"
   },
   "outputs": [],
   "source": [
    "##Test Data\n",
    "embed_test = (hub_layer(X_test_nlp.values.reshape(-1,)))\n",
    "embed_test_df = pd.DataFrame((embed_test.numpy()[:].reshape(-1,128)))\n",
    "test_std_df = pd.DataFrame(X_test_std)\n",
    "concat_test_df = pd.concat([test_std_df,embed_test_df] ,axis=1)"
   ]
  },
  {
   "cell_type": "code",
   "execution_count": 0,
   "metadata": {
    "colab": {},
    "colab_type": "code",
    "id": "WW6LhEQyuXIr"
   },
   "outputs": [],
   "source": [
    "input2 = tf.keras.layers.Input(shape=(129,))\n",
    "dense_layer_1 = tf.keras.layers.Dense(32, activation='relu')(input2)\n",
    "drop1= tf.keras.layers.Dropout(.2)\n",
    "dense_layer_2 = tf.keras.layers.Dense(32, activation='relu')(dense_layer_1)\n",
    "drop1= tf.keras.layers.Dropout(.2)\n",
    "dense_layer_3 = tf.keras.layers.Dense(32, activation='relu')(dense_layer_2)\n",
    "output = tf.keras.layers.Dense(1, activation='sigmoid')(dense_layer_3)\n",
    "model = tf.keras.Model(inputs=input2, outputs=output)"
   ]
  },
  {
   "cell_type": "code",
   "execution_count": 37,
   "metadata": {
    "colab": {
     "base_uri": "https://localhost:8080/",
     "height": 319
    },
    "colab_type": "code",
    "id": "LVrOjuOLubbV",
    "outputId": "591ed7de-2869-4d94-c9a7-f7b02cc91c6b"
   },
   "outputs": [
    {
     "name": "stdout",
     "output_type": "stream",
     "text": [
      "Model: \"model\"\n",
      "_________________________________________________________________\n",
      "Layer (type)                 Output Shape              Param #   \n",
      "=================================================================\n",
      "input_1 (InputLayer)         [(None, 129)]             0         \n",
      "_________________________________________________________________\n",
      "dense (Dense)                (None, 32)                4160      \n",
      "_________________________________________________________________\n",
      "dense_1 (Dense)              (None, 32)                1056      \n",
      "_________________________________________________________________\n",
      "dense_2 (Dense)              (None, 32)                1056      \n",
      "_________________________________________________________________\n",
      "dense_3 (Dense)              (None, 1)                 33        \n",
      "=================================================================\n",
      "Total params: 6,305\n",
      "Trainable params: 6,305\n",
      "Non-trainable params: 0\n",
      "_________________________________________________________________\n"
     ]
    }
   ],
   "source": [
    "model.summary()\n",
    "\n",
    "model.compile(optimizer='Adam',\n",
    "              #loss=tf.keras.losses.BinaryCrossentropy(from_logits=True),\n",
    "              loss='binary_crossentropy',\n",
    "              metrics=['accuracy'])"
   ]
  },
  {
   "cell_type": "code",
   "execution_count": 0,
   "metadata": {
    "colab": {},
    "colab_type": "code",
    "id": "zauwmG-quevD"
   },
   "outputs": [],
   "source": [
    "from tensorflow.keras.utils import to_categorical"
   ]
  },
  {
   "cell_type": "code",
   "execution_count": 39,
   "metadata": {
    "colab": {
     "base_uri": "https://localhost:8080/",
     "height": 1000
    },
    "colab_type": "code",
    "id": "zxZLYfncuh3p",
    "outputId": "4203a29d-26af-4f3b-8c6f-7aa38c73ac64"
   },
   "outputs": [
    {
     "name": "stdout",
     "output_type": "stream",
     "text": [
      "Epoch 1/100\n",
      "5/5 [==============================] - 0s 38ms/step - loss: 0.6882 - accuracy: 0.5625 - val_loss: 0.6743 - val_accuracy: 0.6829\n",
      "Epoch 2/100\n",
      "5/5 [==============================] - 0s 7ms/step - loss: 0.6691 - accuracy: 0.6750 - val_loss: 0.6588 - val_accuracy: 0.6829\n",
      "Epoch 3/100\n",
      "5/5 [==============================] - 0s 7ms/step - loss: 0.6561 - accuracy: 0.6750 - val_loss: 0.6471 - val_accuracy: 0.6829\n",
      "Epoch 4/100\n",
      "5/5 [==============================] - 0s 8ms/step - loss: 0.6433 - accuracy: 0.6750 - val_loss: 0.6404 - val_accuracy: 0.6829\n",
      "Epoch 5/100\n",
      "5/5 [==============================] - 0s 7ms/step - loss: 0.6380 - accuracy: 0.6750 - val_loss: 0.6348 - val_accuracy: 0.6829\n",
      "Epoch 6/100\n",
      "5/5 [==============================] - 0s 8ms/step - loss: 0.6332 - accuracy: 0.6750 - val_loss: 0.6285 - val_accuracy: 0.6829\n",
      "Epoch 7/100\n",
      "5/5 [==============================] - 0s 7ms/step - loss: 0.6306 - accuracy: 0.6750 - val_loss: 0.6235 - val_accuracy: 0.6829\n",
      "Epoch 8/100\n",
      "5/5 [==============================] - 0s 8ms/step - loss: 0.6293 - accuracy: 0.6750 - val_loss: 0.6174 - val_accuracy: 0.6829\n",
      "Epoch 9/100\n",
      "5/5 [==============================] - 0s 8ms/step - loss: 0.6256 - accuracy: 0.6750 - val_loss: 0.6114 - val_accuracy: 0.6829\n",
      "Epoch 10/100\n",
      "5/5 [==============================] - 0s 9ms/step - loss: 0.6233 - accuracy: 0.6750 - val_loss: 0.6066 - val_accuracy: 0.6829\n",
      "Epoch 11/100\n",
      "5/5 [==============================] - 0s 7ms/step - loss: 0.6221 - accuracy: 0.6750 - val_loss: 0.6027 - val_accuracy: 0.6829\n",
      "Epoch 12/100\n",
      "5/5 [==============================] - 0s 7ms/step - loss: 0.6204 - accuracy: 0.6750 - val_loss: 0.6007 - val_accuracy: 0.6829\n",
      "Epoch 13/100\n",
      "5/5 [==============================] - 0s 8ms/step - loss: 0.6188 - accuracy: 0.6750 - val_loss: 0.5979 - val_accuracy: 0.6829\n",
      "Epoch 14/100\n",
      "5/5 [==============================] - 0s 7ms/step - loss: 0.6178 - accuracy: 0.6750 - val_loss: 0.5962 - val_accuracy: 0.6829\n",
      "Epoch 15/100\n",
      "5/5 [==============================] - 0s 7ms/step - loss: 0.6161 - accuracy: 0.6750 - val_loss: 0.5947 - val_accuracy: 0.6829\n",
      "Epoch 16/100\n",
      "5/5 [==============================] - 0s 8ms/step - loss: 0.6142 - accuracy: 0.6750 - val_loss: 0.5918 - val_accuracy: 0.6829\n",
      "Epoch 17/100\n",
      "5/5 [==============================] - 0s 7ms/step - loss: 0.6137 - accuracy: 0.6750 - val_loss: 0.5895 - val_accuracy: 0.6829\n",
      "Epoch 18/100\n",
      "5/5 [==============================] - 0s 7ms/step - loss: 0.6131 - accuracy: 0.6750 - val_loss: 0.5884 - val_accuracy: 0.6829\n",
      "Epoch 19/100\n",
      "5/5 [==============================] - 0s 9ms/step - loss: 0.6112 - accuracy: 0.6750 - val_loss: 0.5849 - val_accuracy: 0.6829\n",
      "Epoch 20/100\n",
      "5/5 [==============================] - 0s 7ms/step - loss: 0.6106 - accuracy: 0.6750 - val_loss: 0.5830 - val_accuracy: 0.6829\n",
      "Epoch 21/100\n",
      "5/5 [==============================] - 0s 8ms/step - loss: 0.6088 - accuracy: 0.6750 - val_loss: 0.5815 - val_accuracy: 0.6829\n",
      "Epoch 22/100\n",
      "5/5 [==============================] - 0s 8ms/step - loss: 0.6076 - accuracy: 0.6750 - val_loss: 0.5811 - val_accuracy: 0.6829\n",
      "Epoch 23/100\n",
      "5/5 [==============================] - 0s 7ms/step - loss: 0.6063 - accuracy: 0.6750 - val_loss: 0.5801 - val_accuracy: 0.6829\n",
      "Epoch 24/100\n",
      "5/5 [==============================] - 0s 7ms/step - loss: 0.6057 - accuracy: 0.6750 - val_loss: 0.5806 - val_accuracy: 0.6829\n",
      "Epoch 25/100\n",
      "5/5 [==============================] - 0s 7ms/step - loss: 0.6050 - accuracy: 0.6750 - val_loss: 0.5794 - val_accuracy: 0.6829\n",
      "Epoch 26/100\n",
      "5/5 [==============================] - 0s 7ms/step - loss: 0.6047 - accuracy: 0.6750 - val_loss: 0.5775 - val_accuracy: 0.6829\n",
      "Epoch 27/100\n",
      "5/5 [==============================] - 0s 8ms/step - loss: 0.6028 - accuracy: 0.6750 - val_loss: 0.5755 - val_accuracy: 0.6829\n",
      "Epoch 28/100\n",
      "5/5 [==============================] - 0s 9ms/step - loss: 0.6021 - accuracy: 0.6750 - val_loss: 0.5743 - val_accuracy: 0.6829\n",
      "Epoch 29/100\n",
      "5/5 [==============================] - 0s 8ms/step - loss: 0.6012 - accuracy: 0.6750 - val_loss: 0.5750 - val_accuracy: 0.6829\n",
      "Epoch 30/100\n",
      "5/5 [==============================] - 0s 8ms/step - loss: 0.6000 - accuracy: 0.6750 - val_loss: 0.5734 - val_accuracy: 0.6829\n",
      "Epoch 31/100\n",
      "5/5 [==============================] - 0s 8ms/step - loss: 0.5989 - accuracy: 0.6750 - val_loss: 0.5735 - val_accuracy: 0.6829\n",
      "Epoch 32/100\n",
      "5/5 [==============================] - 0s 8ms/step - loss: 0.5979 - accuracy: 0.6750 - val_loss: 0.5737 - val_accuracy: 0.6829\n",
      "Epoch 33/100\n",
      "5/5 [==============================] - 0s 8ms/step - loss: 0.5978 - accuracy: 0.6750 - val_loss: 0.5734 - val_accuracy: 0.6829\n",
      "Epoch 34/100\n",
      "5/5 [==============================] - 0s 7ms/step - loss: 0.5979 - accuracy: 0.6750 - val_loss: 0.5751 - val_accuracy: 0.6829\n",
      "Epoch 35/100\n",
      "5/5 [==============================] - 0s 8ms/step - loss: 0.5958 - accuracy: 0.6750 - val_loss: 0.5719 - val_accuracy: 0.6829\n",
      "Epoch 36/100\n",
      "5/5 [==============================] - 0s 8ms/step - loss: 0.5948 - accuracy: 0.6750 - val_loss: 0.5689 - val_accuracy: 0.6829\n",
      "Epoch 37/100\n",
      "5/5 [==============================] - 0s 8ms/step - loss: 0.5959 - accuracy: 0.6750 - val_loss: 0.5704 - val_accuracy: 0.6829\n",
      "Epoch 38/100\n",
      "5/5 [==============================] - 0s 9ms/step - loss: 0.5956 - accuracy: 0.6750 - val_loss: 0.5712 - val_accuracy: 0.6829\n",
      "Epoch 39/100\n",
      "5/5 [==============================] - 0s 8ms/step - loss: 0.5931 - accuracy: 0.6750 - val_loss: 0.5702 - val_accuracy: 0.6829\n",
      "Epoch 40/100\n",
      "5/5 [==============================] - 0s 8ms/step - loss: 0.5930 - accuracy: 0.6750 - val_loss: 0.5702 - val_accuracy: 0.6829\n",
      "Epoch 41/100\n",
      "5/5 [==============================] - 0s 8ms/step - loss: 0.5937 - accuracy: 0.6750 - val_loss: 0.5676 - val_accuracy: 0.6829\n",
      "Epoch 42/100\n",
      "5/5 [==============================] - 0s 8ms/step - loss: 0.5907 - accuracy: 0.6750 - val_loss: 0.5669 - val_accuracy: 0.6829\n",
      "Epoch 43/100\n",
      "5/5 [==============================] - 0s 7ms/step - loss: 0.5897 - accuracy: 0.6750 - val_loss: 0.5685 - val_accuracy: 0.6829\n",
      "Epoch 44/100\n",
      "5/5 [==============================] - 0s 7ms/step - loss: 0.5886 - accuracy: 0.6750 - val_loss: 0.5683 - val_accuracy: 0.6829\n",
      "Epoch 45/100\n",
      "5/5 [==============================] - 0s 7ms/step - loss: 0.5880 - accuracy: 0.6750 - val_loss: 0.5696 - val_accuracy: 0.6829\n",
      "Epoch 46/100\n",
      "5/5 [==============================] - 0s 7ms/step - loss: 0.5877 - accuracy: 0.6750 - val_loss: 0.5684 - val_accuracy: 0.6829\n",
      "Epoch 47/100\n",
      "5/5 [==============================] - 0s 8ms/step - loss: 0.5862 - accuracy: 0.6750 - val_loss: 0.5692 - val_accuracy: 0.6829\n"
     ]
    }
   ],
   "source": [
    "callback = tf.keras.callbacks.EarlyStopping(monitor='val_loss', patience=5)\n",
    "history = model.fit(concat_df.values, y_train.values,\n",
    "                    epochs=100,\n",
    "                    validation_data=(concat_test_df.values, y_test.values),\n",
    "                    verbose=1,callbacks=[callback])"
   ]
  },
  {
   "cell_type": "code",
   "execution_count": 0,
   "metadata": {
    "colab": {},
    "colab_type": "code",
    "id": "H2pGY9SFvLJh"
   },
   "outputs": [],
   "source": []
  }
 ],
 "metadata": {
  "colab": {
   "name": "Revised_dump_ignorable.ipynb",
   "provenance": []
  },
  "kernelspec": {
   "display_name": "Python 3",
   "language": "python",
   "name": "python3"
  },
  "language_info": {
   "codemirror_mode": {
    "name": "ipython",
    "version": 3
   },
   "file_extension": ".py",
   "mimetype": "text/x-python",
   "name": "python",
   "nbconvert_exporter": "python",
   "pygments_lexer": "ipython3",
   "version": "3.7.4"
  }
 },
 "nbformat": 4,
 "nbformat_minor": 1
}
